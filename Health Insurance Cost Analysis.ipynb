{
 "cells": [
  {
   "cell_type": "markdown",
   "metadata": {},
   "source": [
    "# Health Insurance Final Project"
   ]
  },
  {
   "cell_type": "markdown",
   "metadata": {},
   "source": [
    "#### Manna Sirak"
   ]
  },
  {
   "cell_type": "markdown",
   "metadata": {},
   "source": [
    "About the data:\n",
    "\n",
    "Payments .csv files - year, type, group, payment<br>\n",
    "Coverage modifications per group .csv file - group, deductible, coinsurance, policy limit<br>\n",
    "Diseases per person .csv file - subject, number of claims"
   ]
  },
  {
   "cell_type": "markdown",
   "metadata": {},
   "source": [
    "**Data Dictionary**\n",
    "\n",
    "| Variable | Definition                                 | Key                                            |\n",
    "|----------|--------------------------------------------|------------------------------------------------|\n",
    "| year | Year                                   | 2015, 2016, 2017, 2018                                |\n",
    "| type   | Type of disease                               | 1 = Acute, 2 = Subacute, 3 = Chronic                      |\n",
    "| group      | Insurance group                                        |1 = I, 2 = II, 3 = III, 4 = IV, 5 = V                                                |\n",
    "| payment      | Payment made to insurance company for single claim                              |                                                |\n",
    "| deductible    | Insurance plan deductible |                                                |\n",
    "| coinsurance    | Percentage insured pays after deductible reached |                                                |\n",
    "| policy limit   | Maximum amt insurance company will pay per claim                             |                                                |\n",
    "| \n"
   ]
  },
  {
   "cell_type": "markdown",
   "metadata": {},
   "source": [
    "   "
   ]
  },
  {
   "cell_type": "markdown",
   "metadata": {},
   "source": [
    "***Key differences between analysis at presentation and final analysis: in presentation, had 2 dependent variables: insurance payout and total claim (insurance payout by company + amount paid by insured). Here, narrowed that down to 1 dependent var, total claim, because it was the more interesting of the two to me. I also cut out outliers in this final version, which resulted in altered figures from those in the powerpoint, and will be explored further below.***"
   ]
  },
  {
   "cell_type": "markdown",
   "metadata": {},
   "source": [
    "# Data Cleaning & Prep"
   ]
  },
  {
   "cell_type": "markdown",
   "metadata": {},
   "source": [
    "Import core libraries"
   ]
  },
  {
   "cell_type": "code",
   "execution_count": 2,
   "metadata": {},
   "outputs": [],
   "source": [
    "import pandas as pd\n",
    "import numpy as np\n",
    "import matplotlib.pyplot as plt\n",
    "import seaborn as sns"
   ]
  },
  {
   "cell_type": "markdown",
   "metadata": {},
   "source": [
    "Import and merge datasets"
   ]
  },
  {
   "cell_type": "code",
   "execution_count": 4,
   "metadata": {
    "scrolled": true
   },
   "outputs": [
    {
     "data": {
      "text/html": [
       "<div>\n",
       "<style scoped>\n",
       "    .dataframe tbody tr th:only-of-type {\n",
       "        vertical-align: middle;\n",
       "    }\n",
       "\n",
       "    .dataframe tbody tr th {\n",
       "        vertical-align: top;\n",
       "    }\n",
       "\n",
       "    .dataframe thead th {\n",
       "        text-align: right;\n",
       "    }\n",
       "</style>\n",
       "<table border=\"1\" class=\"dataframe\">\n",
       "  <thead>\n",
       "    <tr style=\"text-align: right;\">\n",
       "      <th></th>\n",
       "      <th>Year</th>\n",
       "      <th>Type</th>\n",
       "      <th>Group</th>\n",
       "      <th>Payment</th>\n",
       "      <th>Deductible</th>\n",
       "      <th>Coinsurance</th>\n",
       "      <th>Policy limit</th>\n",
       "    </tr>\n",
       "  </thead>\n",
       "  <tbody>\n",
       "    <tr>\n",
       "      <th>0</th>\n",
       "      <td>2015</td>\n",
       "      <td>Subaguda</td>\n",
       "      <td>I</td>\n",
       "      <td>$1,079</td>\n",
       "      <td>$5,000.00</td>\n",
       "      <td>5%</td>\n",
       "      <td>$200,000.00</td>\n",
       "    </tr>\n",
       "    <tr>\n",
       "      <th>1</th>\n",
       "      <td>2015</td>\n",
       "      <td>Subaguda</td>\n",
       "      <td>I</td>\n",
       "      <td>$25,557</td>\n",
       "      <td>$5,000.00</td>\n",
       "      <td>5%</td>\n",
       "      <td>$200,000.00</td>\n",
       "    </tr>\n",
       "    <tr>\n",
       "      <th>2</th>\n",
       "      <td>2015</td>\n",
       "      <td>Accidente</td>\n",
       "      <td>I</td>\n",
       "      <td>$27,475</td>\n",
       "      <td>$5,000.00</td>\n",
       "      <td>5%</td>\n",
       "      <td>$200,000.00</td>\n",
       "    </tr>\n",
       "  </tbody>\n",
       "</table>\n",
       "</div>"
      ],
      "text/plain": [
       "   Year       Type Group   Payment Deductible Coinsurance Policy limit\n",
       "0  2015   Subaguda     I   $1,079   $5,000.00          5%  $200,000.00\n",
       "1  2015   Subaguda     I  $25,557   $5,000.00          5%  $200,000.00\n",
       "2  2015  Accidente     I  $27,475   $5,000.00          5%  $200,000.00"
      ]
     },
     "execution_count": 4,
     "metadata": {},
     "output_type": "execute_result"
    }
   ],
   "source": [
    "d_2015 = pd.read_csv('Payments 2015.csv')\n",
    "d_2016 = pd.read_csv('Payments 2016.csv')\n",
    "d_2017 = pd.read_csv('Payments 2017.csv')\n",
    "d_2018 = pd.read_csv('Payments 2018.csv')\n",
    "cov_mod = pd.read_csv('Coverage modifications per group.csv')"
   ]
  },
  {
   "cell_type": "code",
   "execution_count": 6,
   "metadata": {},
   "outputs": [
    {
     "data": {
      "text/plain": [
       "array(['Accidente', 'Subaguda', 'Crítica', 'Aguda'], dtype=object)"
      ]
     },
     "execution_count": 6,
     "metadata": {},
     "output_type": "execute_result"
    }
   ],
   "source": [
    "d_2018.Type.unique()"
   ]
  },
  {
   "cell_type": "code",
   "execution_count": 7,
   "metadata": {},
   "outputs": [
    {
     "data": {
      "text/plain": [
       "1447"
      ]
     },
     "execution_count": 7,
     "metadata": {},
     "output_type": "execute_result"
    }
   ],
   "source": [
    "merge = [d_2015, d_2016, d_2017, d_2018]\n",
    "payments = pd.concat(merge)\n",
    "len(payments)"
   ]
  },
  {
   "cell_type": "code",
   "execution_count": 8,
   "metadata": {},
   "outputs": [
    {
     "data": {
      "text/html": [
       "<div>\n",
       "<style scoped>\n",
       "    .dataframe tbody tr th:only-of-type {\n",
       "        vertical-align: middle;\n",
       "    }\n",
       "\n",
       "    .dataframe tbody tr th {\n",
       "        vertical-align: top;\n",
       "    }\n",
       "\n",
       "    .dataframe thead th {\n",
       "        text-align: right;\n",
       "    }\n",
       "</style>\n",
       "<table border=\"1\" class=\"dataframe\">\n",
       "  <thead>\n",
       "    <tr style=\"text-align: right;\">\n",
       "      <th></th>\n",
       "      <th>Year</th>\n",
       "      <th>Type</th>\n",
       "      <th>Group</th>\n",
       "      <th>Payment</th>\n",
       "      <th>Deductible</th>\n",
       "      <th>Coinsurance</th>\n",
       "      <th>Policy limit</th>\n",
       "    </tr>\n",
       "  </thead>\n",
       "  <tbody>\n",
       "    <tr>\n",
       "      <th>0</th>\n",
       "      <td>2015</td>\n",
       "      <td>Subaguda</td>\n",
       "      <td>I</td>\n",
       "      <td>$1,079</td>\n",
       "      <td>$5,000.00</td>\n",
       "      <td>5%</td>\n",
       "      <td>$200,000.00</td>\n",
       "    </tr>\n",
       "    <tr>\n",
       "      <th>1</th>\n",
       "      <td>2015</td>\n",
       "      <td>Subaguda</td>\n",
       "      <td>I</td>\n",
       "      <td>$25,557</td>\n",
       "      <td>$5,000.00</td>\n",
       "      <td>5%</td>\n",
       "      <td>$200,000.00</td>\n",
       "    </tr>\n",
       "    <tr>\n",
       "      <th>2</th>\n",
       "      <td>2015</td>\n",
       "      <td>Accidente</td>\n",
       "      <td>I</td>\n",
       "      <td>$27,475</td>\n",
       "      <td>$5,000.00</td>\n",
       "      <td>5%</td>\n",
       "      <td>$200,000.00</td>\n",
       "    </tr>\n",
       "  </tbody>\n",
       "</table>\n",
       "</div>"
      ],
      "text/plain": [
       "   Year       Type Group   Payment Deductible Coinsurance Policy limit\n",
       "0  2015   Subaguda     I   $1,079   $5,000.00          5%  $200,000.00\n",
       "1  2015   Subaguda     I  $25,557   $5,000.00          5%  $200,000.00\n",
       "2  2015  Accidente     I  $27,475   $5,000.00          5%  $200,000.00"
      ]
     },
     "execution_count": 8,
     "metadata": {},
     "output_type": "execute_result"
    }
   ],
   "source": [
    "paydata = pd.merge(payments, cov_mod, on='Group')\n",
    "paydata.head(3)"
   ]
  },
  {
   "cell_type": "markdown",
   "metadata": {},
   "source": [
    "## Transforming and creating variables"
   ]
  },
  {
   "cell_type": "markdown",
   "metadata": {},
   "source": [
    "Strip non-numeric characters from numeric variables"
   ]
  },
  {
   "cell_type": "code",
   "execution_count": 11,
   "metadata": {},
   "outputs": [],
   "source": [
    "# strip using for loops and adding to lists\n",
    "\n",
    "payment = []\n",
    "deductible = []\n",
    "coinsurance = []\n",
    "policy_limit = []\n",
    "\n",
    "for p in paydata['Payment']:\n",
    "    payment.append(p.strip('$').replace(',',''))\n",
    "\n",
    "for d in paydata['Deductible']:\n",
    "    deductible.append(d.strip('$').replace(',',''))\n",
    "    \n",
    "for c in paydata['Coinsurance']:\n",
    "    coinsurance.append(c.strip('%'))\n",
    "        \n",
    "for pl in paydata['Policy limit']:\n",
    "    policy_limit.append(pl.strip('$').replace(',',''))"
   ]
  },
  {
   "cell_type": "code",
   "execution_count": 12,
   "metadata": {},
   "outputs": [
    {
     "data": {
      "text/html": [
       "<div>\n",
       "<style scoped>\n",
       "    .dataframe tbody tr th:only-of-type {\n",
       "        vertical-align: middle;\n",
       "    }\n",
       "\n",
       "    .dataframe tbody tr th {\n",
       "        vertical-align: top;\n",
       "    }\n",
       "\n",
       "    .dataframe thead th {\n",
       "        text-align: right;\n",
       "    }\n",
       "</style>\n",
       "<table border=\"1\" class=\"dataframe\">\n",
       "  <thead>\n",
       "    <tr style=\"text-align: right;\">\n",
       "      <th></th>\n",
       "      <th>Payment</th>\n",
       "      <th>Deductible</th>\n",
       "      <th>Coinsurance</th>\n",
       "      <th>Policy limit</th>\n",
       "    </tr>\n",
       "  </thead>\n",
       "  <tbody>\n",
       "    <tr>\n",
       "      <th>0</th>\n",
       "      <td>1079</td>\n",
       "      <td>5000.00</td>\n",
       "      <td>5</td>\n",
       "      <td>200000.00</td>\n",
       "    </tr>\n",
       "    <tr>\n",
       "      <th>1</th>\n",
       "      <td>25557</td>\n",
       "      <td>5000.00</td>\n",
       "      <td>5</td>\n",
       "      <td>200000.00</td>\n",
       "    </tr>\n",
       "    <tr>\n",
       "      <th>2</th>\n",
       "      <td>27475</td>\n",
       "      <td>5000.00</td>\n",
       "      <td>5</td>\n",
       "      <td>200000.00</td>\n",
       "    </tr>\n",
       "  </tbody>\n",
       "</table>\n",
       "</div>"
      ],
      "text/plain": [
       "  Payment Deductible Coinsurance Policy limit\n",
       "0   1079     5000.00           5    200000.00\n",
       "1  25557     5000.00           5    200000.00\n",
       "2  27475     5000.00           5    200000.00"
      ]
     },
     "execution_count": 12,
     "metadata": {},
     "output_type": "execute_result"
    }
   ],
   "source": [
    "# compile lists into a dataframe called cols_to_insert\n",
    "\n",
    "to_insert = {'Payment':payment, 'Deductible':deductible, 'Coinsurance':coinsurance,\n",
    "             'Policy limit':policy_limit}\n",
    "cols_to_insert = pd.DataFrame (to_insert, columns = ['Payment', 'Deductible','Coinsurance','Policy limit'])\n",
    "cols_to_insert.head(3)"
   ]
  },
  {
   "cell_type": "code",
   "execution_count": 13,
   "metadata": {},
   "outputs": [
    {
     "data": {
      "text/html": [
       "<div>\n",
       "<style scoped>\n",
       "    .dataframe tbody tr th:only-of-type {\n",
       "        vertical-align: middle;\n",
       "    }\n",
       "\n",
       "    .dataframe tbody tr th {\n",
       "        vertical-align: top;\n",
       "    }\n",
       "\n",
       "    .dataframe thead th {\n",
       "        text-align: right;\n",
       "    }\n",
       "</style>\n",
       "<table border=\"1\" class=\"dataframe\">\n",
       "  <thead>\n",
       "    <tr style=\"text-align: right;\">\n",
       "      <th></th>\n",
       "      <th>Payment</th>\n",
       "      <th>Deductible</th>\n",
       "      <th>Coinsurance</th>\n",
       "      <th>Policy limit</th>\n",
       "    </tr>\n",
       "  </thead>\n",
       "  <tbody>\n",
       "    <tr>\n",
       "      <th>0</th>\n",
       "      <td>1079</td>\n",
       "      <td>5000.0</td>\n",
       "      <td>0.05</td>\n",
       "      <td>200000.0</td>\n",
       "    </tr>\n",
       "    <tr>\n",
       "      <th>1</th>\n",
       "      <td>25557</td>\n",
       "      <td>5000.0</td>\n",
       "      <td>0.05</td>\n",
       "      <td>200000.0</td>\n",
       "    </tr>\n",
       "    <tr>\n",
       "      <th>2</th>\n",
       "      <td>27475</td>\n",
       "      <td>5000.0</td>\n",
       "      <td>0.05</td>\n",
       "      <td>200000.0</td>\n",
       "    </tr>\n",
       "  </tbody>\n",
       "</table>\n",
       "</div>"
      ],
      "text/plain": [
       "   Payment  Deductible  Coinsurance  Policy limit\n",
       "0     1079      5000.0         0.05      200000.0\n",
       "1    25557      5000.0         0.05      200000.0\n",
       "2    27475      5000.0         0.05      200000.0"
      ]
     },
     "execution_count": 13,
     "metadata": {},
     "output_type": "execute_result"
    }
   ],
   "source": [
    "# change data types to all integers, and adjust coinsurance percentage to float value\n",
    "\n",
    "cols_to_insert = cols_to_insert.astype({'Payment':int, 'Deductible':float,'Coinsurance':float,'Policy limit':float})\n",
    "cols_to_insert['Coinsurance'] = cols_to_insert['Coinsurance'].div(100)\n",
    "\n",
    "cols_to_insert.head(3)"
   ]
  },
  {
   "cell_type": "markdown",
   "metadata": {},
   "source": [
    "Calculate total claim amount:\n",
    "\n",
    "total_claim = amt paid by insurer + amt paid by insured <br>\n",
    "total_claim = payment + deductible + (((100 x payment) / 95)*.05)"
   ]
  },
  {
   "cell_type": "code",
   "execution_count": 14,
   "metadata": {},
   "outputs": [
    {
     "data": {
      "text/html": [
       "<div>\n",
       "<style scoped>\n",
       "    .dataframe tbody tr th:only-of-type {\n",
       "        vertical-align: middle;\n",
       "    }\n",
       "\n",
       "    .dataframe tbody tr th {\n",
       "        vertical-align: top;\n",
       "    }\n",
       "\n",
       "    .dataframe thead th {\n",
       "        text-align: right;\n",
       "    }\n",
       "</style>\n",
       "<table border=\"1\" class=\"dataframe\">\n",
       "  <thead>\n",
       "    <tr style=\"text-align: right;\">\n",
       "      <th></th>\n",
       "      <th>Payment</th>\n",
       "      <th>Deductible</th>\n",
       "      <th>Coinsurance</th>\n",
       "      <th>Policy limit</th>\n",
       "      <th>Post ded payment insured</th>\n",
       "      <th>Total claim</th>\n",
       "    </tr>\n",
       "  </thead>\n",
       "  <tbody>\n",
       "    <tr>\n",
       "      <th>0</th>\n",
       "      <td>1079</td>\n",
       "      <td>5000.0</td>\n",
       "      <td>0.05</td>\n",
       "      <td>200000.0</td>\n",
       "      <td>56.79</td>\n",
       "      <td>6135.79</td>\n",
       "    </tr>\n",
       "    <tr>\n",
       "      <th>1</th>\n",
       "      <td>25557</td>\n",
       "      <td>5000.0</td>\n",
       "      <td>0.05</td>\n",
       "      <td>200000.0</td>\n",
       "      <td>1345.11</td>\n",
       "      <td>31902.11</td>\n",
       "    </tr>\n",
       "    <tr>\n",
       "      <th>2</th>\n",
       "      <td>27475</td>\n",
       "      <td>5000.0</td>\n",
       "      <td>0.05</td>\n",
       "      <td>200000.0</td>\n",
       "      <td>1446.05</td>\n",
       "      <td>33921.05</td>\n",
       "    </tr>\n",
       "  </tbody>\n",
       "</table>\n",
       "</div>"
      ],
      "text/plain": [
       "   Payment  Deductible  Coinsurance  Policy limit  Post ded payment insured  \\\n",
       "0     1079      5000.0         0.05      200000.0                     56.79   \n",
       "1    25557      5000.0         0.05      200000.0                   1345.11   \n",
       "2    27475      5000.0         0.05      200000.0                   1446.05   \n",
       "\n",
       "   Total claim  \n",
       "0      6135.79  \n",
       "1     31902.11  \n",
       "2     33921.05  "
      ]
     },
     "execution_count": 14,
     "metadata": {},
     "output_type": "execute_result"
    }
   ],
   "source": [
    "# calculate total claim amount and add as column into cols_to_insert\n",
    "    # 1. calculate amount insured paid after deductible, add as column to cols_to_insert\n",
    "    # 2. calculate total claim in separate column as sum of payment, deductible, and amt \n",
    "        # insured paid after deductible\n",
    "    \n",
    "insured_paid_post_deduct = []\n",
    "for l in cols_to_insert['Payment']:\n",
    "    x = (l*(100/95))*.05\n",
    "    insured_paid_post_deduct.append(round(x, 2))\n",
    "\n",
    "to_insert1 = {'Post ded payment insured':insured_paid_post_deduct}\n",
    "cols_to_insert['Post ded payment insured'] = to_insert1['Post ded payment insured']\n",
    "\n",
    "\n",
    "cols_to_insert['Total claim'] = cols_to_insert['Payment']+cols_to_insert['Deductible']+cols_to_insert['Post ded payment insured']\n",
    "cols_to_insert.head(3)"
   ]
  },
  {
   "cell_type": "markdown",
   "metadata": {},
   "source": [
    "Replace old columns in paydata with reformatted ones from cols_to_insert"
   ]
  },
  {
   "cell_type": "code",
   "execution_count": 15,
   "metadata": {},
   "outputs": [
    {
     "data": {
      "text/html": [
       "<div>\n",
       "<style scoped>\n",
       "    .dataframe tbody tr th:only-of-type {\n",
       "        vertical-align: middle;\n",
       "    }\n",
       "\n",
       "    .dataframe tbody tr th {\n",
       "        vertical-align: top;\n",
       "    }\n",
       "\n",
       "    .dataframe thead th {\n",
       "        text-align: right;\n",
       "    }\n",
       "</style>\n",
       "<table border=\"1\" class=\"dataframe\">\n",
       "  <thead>\n",
       "    <tr style=\"text-align: right;\">\n",
       "      <th></th>\n",
       "      <th>Year</th>\n",
       "      <th>Type</th>\n",
       "      <th>Group</th>\n",
       "      <th>Payment</th>\n",
       "      <th>Deductible</th>\n",
       "      <th>Coinsurance</th>\n",
       "      <th>Policy limit</th>\n",
       "      <th>Total claim</th>\n",
       "    </tr>\n",
       "  </thead>\n",
       "  <tbody>\n",
       "    <tr>\n",
       "      <th>0</th>\n",
       "      <td>2015</td>\n",
       "      <td>Subaguda</td>\n",
       "      <td>I</td>\n",
       "      <td>1079</td>\n",
       "      <td>5000.0</td>\n",
       "      <td>0.05</td>\n",
       "      <td>200000.0</td>\n",
       "      <td>6135.79</td>\n",
       "    </tr>\n",
       "    <tr>\n",
       "      <th>1</th>\n",
       "      <td>2015</td>\n",
       "      <td>Subaguda</td>\n",
       "      <td>I</td>\n",
       "      <td>25557</td>\n",
       "      <td>5000.0</td>\n",
       "      <td>0.05</td>\n",
       "      <td>200000.0</td>\n",
       "      <td>31902.11</td>\n",
       "    </tr>\n",
       "    <tr>\n",
       "      <th>2</th>\n",
       "      <td>2015</td>\n",
       "      <td>Accidente</td>\n",
       "      <td>I</td>\n",
       "      <td>27475</td>\n",
       "      <td>5000.0</td>\n",
       "      <td>0.05</td>\n",
       "      <td>200000.0</td>\n",
       "      <td>33921.05</td>\n",
       "    </tr>\n",
       "    <tr>\n",
       "      <th>3</th>\n",
       "      <td>2015</td>\n",
       "      <td>Accidente</td>\n",
       "      <td>I</td>\n",
       "      <td>23748</td>\n",
       "      <td>5000.0</td>\n",
       "      <td>0.05</td>\n",
       "      <td>200000.0</td>\n",
       "      <td>29997.89</td>\n",
       "    </tr>\n",
       "    <tr>\n",
       "      <th>4</th>\n",
       "      <td>2015</td>\n",
       "      <td>Accidente</td>\n",
       "      <td>I</td>\n",
       "      <td>16071</td>\n",
       "      <td>5000.0</td>\n",
       "      <td>0.05</td>\n",
       "      <td>200000.0</td>\n",
       "      <td>21916.84</td>\n",
       "    </tr>\n",
       "    <tr>\n",
       "      <th>5</th>\n",
       "      <td>2015</td>\n",
       "      <td>Accidente</td>\n",
       "      <td>I</td>\n",
       "      <td>3196</td>\n",
       "      <td>5000.0</td>\n",
       "      <td>0.05</td>\n",
       "      <td>200000.0</td>\n",
       "      <td>8364.21</td>\n",
       "    </tr>\n",
       "    <tr>\n",
       "      <th>6</th>\n",
       "      <td>2015</td>\n",
       "      <td>Subaguda</td>\n",
       "      <td>I</td>\n",
       "      <td>20711</td>\n",
       "      <td>5000.0</td>\n",
       "      <td>0.05</td>\n",
       "      <td>200000.0</td>\n",
       "      <td>26801.05</td>\n",
       "    </tr>\n",
       "    <tr>\n",
       "      <th>7</th>\n",
       "      <td>2015</td>\n",
       "      <td>Subaguda</td>\n",
       "      <td>I</td>\n",
       "      <td>13499</td>\n",
       "      <td>5000.0</td>\n",
       "      <td>0.05</td>\n",
       "      <td>200000.0</td>\n",
       "      <td>19209.47</td>\n",
       "    </tr>\n",
       "    <tr>\n",
       "      <th>8</th>\n",
       "      <td>2015</td>\n",
       "      <td>Accidente</td>\n",
       "      <td>I</td>\n",
       "      <td>869</td>\n",
       "      <td>5000.0</td>\n",
       "      <td>0.05</td>\n",
       "      <td>200000.0</td>\n",
       "      <td>5914.74</td>\n",
       "    </tr>\n",
       "    <tr>\n",
       "      <th>9</th>\n",
       "      <td>2015</td>\n",
       "      <td>Crítica</td>\n",
       "      <td>I</td>\n",
       "      <td>200000</td>\n",
       "      <td>5000.0</td>\n",
       "      <td>0.05</td>\n",
       "      <td>200000.0</td>\n",
       "      <td>215526.32</td>\n",
       "    </tr>\n",
       "  </tbody>\n",
       "</table>\n",
       "</div>"
      ],
      "text/plain": [
       "   Year       Type Group  Payment  Deductible  Coinsurance  Policy limit  \\\n",
       "0  2015   Subaguda     I     1079      5000.0         0.05      200000.0   \n",
       "1  2015   Subaguda     I    25557      5000.0         0.05      200000.0   \n",
       "2  2015  Accidente     I    27475      5000.0         0.05      200000.0   \n",
       "3  2015  Accidente     I    23748      5000.0         0.05      200000.0   \n",
       "4  2015  Accidente     I    16071      5000.0         0.05      200000.0   \n",
       "5  2015  Accidente     I     3196      5000.0         0.05      200000.0   \n",
       "6  2015   Subaguda     I    20711      5000.0         0.05      200000.0   \n",
       "7  2015   Subaguda     I    13499      5000.0         0.05      200000.0   \n",
       "8  2015  Accidente     I      869      5000.0         0.05      200000.0   \n",
       "9  2015    Crítica     I   200000      5000.0         0.05      200000.0   \n",
       "\n",
       "   Total claim  \n",
       "0      6135.79  \n",
       "1     31902.11  \n",
       "2     33921.05  \n",
       "3     29997.89  \n",
       "4     21916.84  \n",
       "5      8364.21  \n",
       "6     26801.05  \n",
       "7     19209.47  \n",
       "8      5914.74  \n",
       "9    215526.32  "
      ]
     },
     "execution_count": 15,
     "metadata": {},
     "output_type": "execute_result"
    }
   ],
   "source": [
    "paydata['Payment'] = cols_to_insert['Payment']\n",
    "paydata['Deductible'] = cols_to_insert['Deductible']\n",
    "paydata['Coinsurance'] = cols_to_insert['Coinsurance']\n",
    "paydata['Policy limit'] = cols_to_insert['Policy limit']\n",
    "paydata['Total claim'] = cols_to_insert['Total claim']\n",
    "paydata.head(10)"
   ]
  },
  {
   "cell_type": "markdown",
   "metadata": {},
   "source": [
    "Translate Spanish to English"
   ]
  },
  {
   "cell_type": "code",
   "execution_count": 32,
   "metadata": {},
   "outputs": [
    {
     "data": {
      "text/html": [
       "<div>\n",
       "<style scoped>\n",
       "    .dataframe tbody tr th:only-of-type {\n",
       "        vertical-align: middle;\n",
       "    }\n",
       "\n",
       "    .dataframe tbody tr th {\n",
       "        vertical-align: top;\n",
       "    }\n",
       "\n",
       "    .dataframe thead th {\n",
       "        text-align: right;\n",
       "    }\n",
       "</style>\n",
       "<table border=\"1\" class=\"dataframe\">\n",
       "  <thead>\n",
       "    <tr style=\"text-align: right;\">\n",
       "      <th></th>\n",
       "      <th>Year</th>\n",
       "      <th>Type</th>\n",
       "      <th>Group</th>\n",
       "      <th>Payment</th>\n",
       "      <th>Deductible</th>\n",
       "      <th>Coinsurance</th>\n",
       "      <th>Policy limit</th>\n",
       "      <th>Total claim</th>\n",
       "    </tr>\n",
       "  </thead>\n",
       "  <tbody>\n",
       "    <tr>\n",
       "      <th>0</th>\n",
       "      <td>2015</td>\n",
       "      <td>Subacute</td>\n",
       "      <td>I</td>\n",
       "      <td>1079</td>\n",
       "      <td>5000.0</td>\n",
       "      <td>0.05</td>\n",
       "      <td>200000.0</td>\n",
       "      <td>6135.79</td>\n",
       "    </tr>\n",
       "    <tr>\n",
       "      <th>1</th>\n",
       "      <td>2015</td>\n",
       "      <td>Subacute</td>\n",
       "      <td>I</td>\n",
       "      <td>25557</td>\n",
       "      <td>5000.0</td>\n",
       "      <td>0.05</td>\n",
       "      <td>200000.0</td>\n",
       "      <td>31902.11</td>\n",
       "    </tr>\n",
       "    <tr>\n",
       "      <th>2</th>\n",
       "      <td>2015</td>\n",
       "      <td>Accidental</td>\n",
       "      <td>I</td>\n",
       "      <td>27475</td>\n",
       "      <td>5000.0</td>\n",
       "      <td>0.05</td>\n",
       "      <td>200000.0</td>\n",
       "      <td>33921.05</td>\n",
       "    </tr>\n",
       "    <tr>\n",
       "      <th>3</th>\n",
       "      <td>2015</td>\n",
       "      <td>Accidental</td>\n",
       "      <td>I</td>\n",
       "      <td>23748</td>\n",
       "      <td>5000.0</td>\n",
       "      <td>0.05</td>\n",
       "      <td>200000.0</td>\n",
       "      <td>29997.89</td>\n",
       "    </tr>\n",
       "    <tr>\n",
       "      <th>4</th>\n",
       "      <td>2015</td>\n",
       "      <td>Accidental</td>\n",
       "      <td>I</td>\n",
       "      <td>16071</td>\n",
       "      <td>5000.0</td>\n",
       "      <td>0.05</td>\n",
       "      <td>200000.0</td>\n",
       "      <td>21916.84</td>\n",
       "    </tr>\n",
       "    <tr>\n",
       "      <th>5</th>\n",
       "      <td>2015</td>\n",
       "      <td>Accidental</td>\n",
       "      <td>I</td>\n",
       "      <td>3196</td>\n",
       "      <td>5000.0</td>\n",
       "      <td>0.05</td>\n",
       "      <td>200000.0</td>\n",
       "      <td>8364.21</td>\n",
       "    </tr>\n",
       "    <tr>\n",
       "      <th>6</th>\n",
       "      <td>2015</td>\n",
       "      <td>Subacute</td>\n",
       "      <td>I</td>\n",
       "      <td>20711</td>\n",
       "      <td>5000.0</td>\n",
       "      <td>0.05</td>\n",
       "      <td>200000.0</td>\n",
       "      <td>26801.05</td>\n",
       "    </tr>\n",
       "    <tr>\n",
       "      <th>7</th>\n",
       "      <td>2015</td>\n",
       "      <td>Subacute</td>\n",
       "      <td>I</td>\n",
       "      <td>13499</td>\n",
       "      <td>5000.0</td>\n",
       "      <td>0.05</td>\n",
       "      <td>200000.0</td>\n",
       "      <td>19209.47</td>\n",
       "    </tr>\n",
       "    <tr>\n",
       "      <th>8</th>\n",
       "      <td>2015</td>\n",
       "      <td>Accidental</td>\n",
       "      <td>I</td>\n",
       "      <td>869</td>\n",
       "      <td>5000.0</td>\n",
       "      <td>0.05</td>\n",
       "      <td>200000.0</td>\n",
       "      <td>5914.74</td>\n",
       "    </tr>\n",
       "    <tr>\n",
       "      <th>9</th>\n",
       "      <td>2015</td>\n",
       "      <td>Chronic</td>\n",
       "      <td>I</td>\n",
       "      <td>200000</td>\n",
       "      <td>5000.0</td>\n",
       "      <td>0.05</td>\n",
       "      <td>200000.0</td>\n",
       "      <td>215526.32</td>\n",
       "    </tr>\n",
       "  </tbody>\n",
       "</table>\n",
       "</div>"
      ],
      "text/plain": [
       "   Year        Type Group  Payment  Deductible  Coinsurance  Policy limit  \\\n",
       "0  2015    Subacute     I     1079      5000.0         0.05      200000.0   \n",
       "1  2015    Subacute     I    25557      5000.0         0.05      200000.0   \n",
       "2  2015  Accidental     I    27475      5000.0         0.05      200000.0   \n",
       "3  2015  Accidental     I    23748      5000.0         0.05      200000.0   \n",
       "4  2015  Accidental     I    16071      5000.0         0.05      200000.0   \n",
       "5  2015  Accidental     I     3196      5000.0         0.05      200000.0   \n",
       "6  2015    Subacute     I    20711      5000.0         0.05      200000.0   \n",
       "7  2015    Subacute     I    13499      5000.0         0.05      200000.0   \n",
       "8  2015  Accidental     I      869      5000.0         0.05      200000.0   \n",
       "9  2015     Chronic     I   200000      5000.0         0.05      200000.0   \n",
       "\n",
       "   Total claim  \n",
       "0      6135.79  \n",
       "1     31902.11  \n",
       "2     33921.05  \n",
       "3     29997.89  \n",
       "4     21916.84  \n",
       "5      8364.21  \n",
       "6     26801.05  \n",
       "7     19209.47  \n",
       "8      5914.74  \n",
       "9    215526.32  "
      ]
     },
     "execution_count": 32,
     "metadata": {},
     "output_type": "execute_result"
    }
   ],
   "source": [
    "paydata['Type'] = paydata['Type'].replace(['Subaguda','Aguda','Crítica','Accidente'],['Subacute','Acute','Chronic','Accidental'])\n",
    "paydata.head(10)"
   ]
  },
  {
   "cell_type": "code",
   "execution_count": null,
   "metadata": {},
   "outputs": [],
   "source": []
  },
  {
   "cell_type": "markdown",
   "metadata": {},
   "source": [
    "## Dealing with missing data and outliers"
   ]
  },
  {
   "cell_type": "markdown",
   "metadata": {},
   "source": [
    "### Missing data"
   ]
  },
  {
   "cell_type": "code",
   "execution_count": 33,
   "metadata": {},
   "outputs": [
    {
     "name": "stdout",
     "output_type": "stream",
     "text": [
      "Missing entries: 0 of 11576 (0%)\n"
     ]
    }
   ],
   "source": [
    "missing_d = np.where(paydata.isna())\n",
    "\n",
    "missing_data = np.shape(missing_d)[0] * np.shape(missing_d)[1]\n",
    "all_data = np.shape(paydata)[0] * np.shape(paydata)[1]\n",
    "print('Missing entries: {0} of {1} ({2:.0f}%)'.format(missing_data, all_data, missing_data/all_data*100))"
   ]
  },
  {
   "cell_type": "markdown",
   "metadata": {},
   "source": [
    "### Outliers"
   ]
  },
  {
   "cell_type": "markdown",
   "metadata": {},
   "source": [
    "***In presentation, didn't deal with outliers. Suggested that I would deal with them at the 75% level (1.5 st devs from mean) - here accounted for those more than 2 st devs from mean***"
   ]
  },
  {
   "cell_type": "markdown",
   "metadata": {},
   "source": [
    "Produce boxplot"
   ]
  },
  {
   "cell_type": "code",
   "execution_count": 34,
   "metadata": {
    "scrolled": true
   },
   "outputs": [
    {
     "data": {
      "text/plain": [
       "<matplotlib.axes._subplots.AxesSubplot at 0x247734d9080>"
      ]
     },
     "execution_count": 34,
     "metadata": {},
     "output_type": "execute_result"
    },
    {
     "data": {
      "image/png": "[encoded data removed]",
      "text/plain": [
       "<Figure size 432x288 with 1 Axes>"
      ]
     },
     "metadata": {
      "needs_background": "light"
     },
     "output_type": "display_data"
    }
   ],
   "source": [
    "sns.boxplot(data=paydata['Total claim'])"
   ]
  },
  {
   "cell_type": "code",
   "execution_count": 35,
   "metadata": {},
   "outputs": [
    {
     "data": {
      "text/html": [
       "<div>\n",
       "<style scoped>\n",
       "    .dataframe tbody tr th:only-of-type {\n",
       "        vertical-align: middle;\n",
       "    }\n",
       "\n",
       "    .dataframe tbody tr th {\n",
       "        vertical-align: top;\n",
       "    }\n",
       "\n",
       "    .dataframe thead th {\n",
       "        text-align: right;\n",
       "    }\n",
       "</style>\n",
       "<table border=\"1\" class=\"dataframe\">\n",
       "  <thead>\n",
       "    <tr style=\"text-align: right;\">\n",
       "      <th></th>\n",
       "      <th>Year</th>\n",
       "      <th>Type</th>\n",
       "      <th>Group</th>\n",
       "      <th>Payment</th>\n",
       "      <th>Deductible</th>\n",
       "      <th>Coinsurance</th>\n",
       "      <th>Policy limit</th>\n",
       "      <th>Total claim</th>\n",
       "    </tr>\n",
       "  </thead>\n",
       "  <tbody>\n",
       "    <tr>\n",
       "      <th>0</th>\n",
       "      <td>2015</td>\n",
       "      <td>Subacute</td>\n",
       "      <td>I</td>\n",
       "      <td>1079</td>\n",
       "      <td>5000.0</td>\n",
       "      <td>0.05</td>\n",
       "      <td>200000.0</td>\n",
       "      <td>6135.79</td>\n",
       "    </tr>\n",
       "    <tr>\n",
       "      <th>1</th>\n",
       "      <td>2015</td>\n",
       "      <td>Subacute</td>\n",
       "      <td>I</td>\n",
       "      <td>25557</td>\n",
       "      <td>5000.0</td>\n",
       "      <td>0.05</td>\n",
       "      <td>200000.0</td>\n",
       "      <td>31902.11</td>\n",
       "    </tr>\n",
       "    <tr>\n",
       "      <th>2</th>\n",
       "      <td>2015</td>\n",
       "      <td>Accidental</td>\n",
       "      <td>I</td>\n",
       "      <td>27475</td>\n",
       "      <td>5000.0</td>\n",
       "      <td>0.05</td>\n",
       "      <td>200000.0</td>\n",
       "      <td>33921.05</td>\n",
       "    </tr>\n",
       "    <tr>\n",
       "      <th>3</th>\n",
       "      <td>2015</td>\n",
       "      <td>Accidental</td>\n",
       "      <td>I</td>\n",
       "      <td>23748</td>\n",
       "      <td>5000.0</td>\n",
       "      <td>0.05</td>\n",
       "      <td>200000.0</td>\n",
       "      <td>29997.89</td>\n",
       "    </tr>\n",
       "    <tr>\n",
       "      <th>4</th>\n",
       "      <td>2015</td>\n",
       "      <td>Accidental</td>\n",
       "      <td>I</td>\n",
       "      <td>16071</td>\n",
       "      <td>5000.0</td>\n",
       "      <td>0.05</td>\n",
       "      <td>200000.0</td>\n",
       "      <td>21916.84</td>\n",
       "    </tr>\n",
       "    <tr>\n",
       "      <th>...</th>\n",
       "      <td>...</td>\n",
       "      <td>...</td>\n",
       "      <td>...</td>\n",
       "      <td>...</td>\n",
       "      <td>...</td>\n",
       "      <td>...</td>\n",
       "      <td>...</td>\n",
       "      <td>...</td>\n",
       "    </tr>\n",
       "    <tr>\n",
       "      <th>1437</th>\n",
       "      <td>2018</td>\n",
       "      <td>Accidental</td>\n",
       "      <td>III</td>\n",
       "      <td>26171</td>\n",
       "      <td>20000.0</td>\n",
       "      <td>0.10</td>\n",
       "      <td>1000000.0</td>\n",
       "      <td>47548.42</td>\n",
       "    </tr>\n",
       "    <tr>\n",
       "      <th>1439</th>\n",
       "      <td>2018</td>\n",
       "      <td>Subacute</td>\n",
       "      <td>III</td>\n",
       "      <td>4428</td>\n",
       "      <td>20000.0</td>\n",
       "      <td>0.10</td>\n",
       "      <td>1000000.0</td>\n",
       "      <td>24661.05</td>\n",
       "    </tr>\n",
       "    <tr>\n",
       "      <th>1440</th>\n",
       "      <td>2015</td>\n",
       "      <td>Subacute</td>\n",
       "      <td>IV</td>\n",
       "      <td>41256</td>\n",
       "      <td>30000.0</td>\n",
       "      <td>0.10</td>\n",
       "      <td>10000000.0</td>\n",
       "      <td>73427.37</td>\n",
       "    </tr>\n",
       "    <tr>\n",
       "      <th>1443</th>\n",
       "      <td>2018</td>\n",
       "      <td>Chronic</td>\n",
       "      <td>IV</td>\n",
       "      <td>21649</td>\n",
       "      <td>30000.0</td>\n",
       "      <td>0.10</td>\n",
       "      <td>10000000.0</td>\n",
       "      <td>52788.42</td>\n",
       "    </tr>\n",
       "    <tr>\n",
       "      <th>1445</th>\n",
       "      <td>2018</td>\n",
       "      <td>Subacute</td>\n",
       "      <td>IV</td>\n",
       "      <td>22753</td>\n",
       "      <td>30000.0</td>\n",
       "      <td>0.10</td>\n",
       "      <td>10000000.0</td>\n",
       "      <td>53950.53</td>\n",
       "    </tr>\n",
       "  </tbody>\n",
       "</table>\n",
       "<p>1325 rows × 8 columns</p>\n",
       "</div>"
      ],
      "text/plain": [
       "      Year        Type Group  Payment  Deductible  Coinsurance  Policy limit  \\\n",
       "0     2015    Subacute     I     1079      5000.0         0.05      200000.0   \n",
       "1     2015    Subacute     I    25557      5000.0         0.05      200000.0   \n",
       "2     2015  Accidental     I    27475      5000.0         0.05      200000.0   \n",
       "3     2015  Accidental     I    23748      5000.0         0.05      200000.0   \n",
       "4     2015  Accidental     I    16071      5000.0         0.05      200000.0   \n",
       "...    ...         ...   ...      ...         ...          ...           ...   \n",
       "1437  2018  Accidental   III    26171     20000.0         0.10     1000000.0   \n",
       "1439  2018    Subacute   III     4428     20000.0         0.10     1000000.0   \n",
       "1440  2015    Subacute    IV    41256     30000.0         0.10    10000000.0   \n",
       "1443  2018     Chronic    IV    21649     30000.0         0.10    10000000.0   \n",
       "1445  2018    Subacute    IV    22753     30000.0         0.10    10000000.0   \n",
       "\n",
       "      Total claim  \n",
       "0         6135.79  \n",
       "1        31902.11  \n",
       "2        33921.05  \n",
       "3        29997.89  \n",
       "4        21916.84  \n",
       "...           ...  \n",
       "1437     47548.42  \n",
       "1439     24661.05  \n",
       "1440     73427.37  \n",
       "1443     52788.42  \n",
       "1445     53950.53  \n",
       "\n",
       "[1325 rows x 8 columns]"
      ]
     },
     "execution_count": 35,
     "metadata": {},
     "output_type": "execute_result"
    }
   ],
   "source": [
    "# remove claims (rows) with total claim values farther than 2 st dev from mean\n",
    "# assign to new var, paydatao\n",
    "\n",
    "q = paydata['Total claim'].quantile(0.9544)\n",
    "paydatao = paydata[paydata['Total claim'] < q]\n",
    "paydatao"
   ]
  },
  {
   "cell_type": "markdown",
   "metadata": {},
   "source": [
    "# Exploratory Data Analysis"
   ]
  },
  {
   "cell_type": "markdown",
   "metadata": {},
   "source": [
    "## Descriptives"
   ]
  },
  {
   "cell_type": "code",
   "execution_count": 36,
   "metadata": {},
   "outputs": [
    {
     "data": {
      "text/html": [
       "<div>\n",
       "<style scoped>\n",
       "    .dataframe tbody tr th:only-of-type {\n",
       "        vertical-align: middle;\n",
       "    }\n",
       "\n",
       "    .dataframe tbody tr th {\n",
       "        vertical-align: top;\n",
       "    }\n",
       "\n",
       "    .dataframe thead th {\n",
       "        text-align: right;\n",
       "    }\n",
       "</style>\n",
       "<table border=\"1\" class=\"dataframe\">\n",
       "  <thead>\n",
       "    <tr style=\"text-align: right;\">\n",
       "      <th></th>\n",
       "      <th>Group</th>\n",
       "      <th>0</th>\n",
       "    </tr>\n",
       "  </thead>\n",
       "  <tbody>\n",
       "    <tr>\n",
       "      <th>0</th>\n",
       "      <td>I</td>\n",
       "      <td>1104</td>\n",
       "    </tr>\n",
       "    <tr>\n",
       "      <th>1</th>\n",
       "      <td>II</td>\n",
       "      <td>178</td>\n",
       "    </tr>\n",
       "    <tr>\n",
       "      <th>2</th>\n",
       "      <td>III</td>\n",
       "      <td>40</td>\n",
       "    </tr>\n",
       "    <tr>\n",
       "      <th>3</th>\n",
       "      <td>IV</td>\n",
       "      <td>3</td>\n",
       "    </tr>\n",
       "  </tbody>\n",
       "</table>\n",
       "</div>"
      ],
      "text/plain": [
       "  Group     0\n",
       "0     I  1104\n",
       "1    II   178\n",
       "2   III    40\n",
       "3    IV     3"
      ]
     },
     "execution_count": 36,
     "metadata": {},
     "output_type": "execute_result"
    }
   ],
   "source": [
    "# counts of # claims in each group\n",
    "\n",
    "paydatao.groupby('Group').size().reset_index()"
   ]
  },
  {
   "cell_type": "code",
   "execution_count": 37,
   "metadata": {
    "scrolled": true
   },
   "outputs": [
    {
     "data": {
      "text/html": [
       "<div>\n",
       "<style scoped>\n",
       "    .dataframe tbody tr th:only-of-type {\n",
       "        vertical-align: middle;\n",
       "    }\n",
       "\n",
       "    .dataframe tbody tr th {\n",
       "        vertical-align: top;\n",
       "    }\n",
       "\n",
       "    .dataframe thead th {\n",
       "        text-align: right;\n",
       "    }\n",
       "</style>\n",
       "<table border=\"1\" class=\"dataframe\">\n",
       "  <thead>\n",
       "    <tr style=\"text-align: right;\">\n",
       "      <th></th>\n",
       "      <th>Year</th>\n",
       "      <th>Payment</th>\n",
       "      <th>Deductible</th>\n",
       "      <th>Coinsurance</th>\n",
       "      <th>Policy limit</th>\n",
       "      <th>Total claim</th>\n",
       "    </tr>\n",
       "  </thead>\n",
       "  <tbody>\n",
       "    <tr>\n",
       "      <th>count</th>\n",
       "      <td>1325.00</td>\n",
       "      <td>1325.00</td>\n",
       "      <td>1325.00</td>\n",
       "      <td>1325.00</td>\n",
       "      <td>1325.00</td>\n",
       "      <td>1325.00</td>\n",
       "    </tr>\n",
       "    <tr>\n",
       "      <th>mean</th>\n",
       "      <td>2016.49</td>\n",
       "      <td>20121.15</td>\n",
       "      <td>6181.13</td>\n",
       "      <td>0.05</td>\n",
       "      <td>286641.51</td>\n",
       "      <td>27361.29</td>\n",
       "    </tr>\n",
       "    <tr>\n",
       "      <th>std</th>\n",
       "      <td>1.10</td>\n",
       "      <td>27592.19</td>\n",
       "      <td>3190.40</td>\n",
       "      <td>0.01</td>\n",
       "      <td>491463.04</td>\n",
       "      <td>29370.86</td>\n",
       "    </tr>\n",
       "    <tr>\n",
       "      <th>min</th>\n",
       "      <td>2015.00</td>\n",
       "      <td>25.00</td>\n",
       "      <td>5000.00</td>\n",
       "      <td>0.05</td>\n",
       "      <td>200000.00</td>\n",
       "      <td>5026.32</td>\n",
       "    </tr>\n",
       "    <tr>\n",
       "      <th>25%</th>\n",
       "      <td>2016.00</td>\n",
       "      <td>4322.00</td>\n",
       "      <td>5000.00</td>\n",
       "      <td>0.05</td>\n",
       "      <td>200000.00</td>\n",
       "      <td>10194.74</td>\n",
       "    </tr>\n",
       "    <tr>\n",
       "      <th>50%</th>\n",
       "      <td>2017.00</td>\n",
       "      <td>10698.00</td>\n",
       "      <td>5000.00</td>\n",
       "      <td>0.05</td>\n",
       "      <td>200000.00</td>\n",
       "      <td>17668.42</td>\n",
       "    </tr>\n",
       "    <tr>\n",
       "      <th>75%</th>\n",
       "      <td>2017.00</td>\n",
       "      <td>24917.00</td>\n",
       "      <td>5000.00</td>\n",
       "      <td>0.05</td>\n",
       "      <td>200000.00</td>\n",
       "      <td>33525.26</td>\n",
       "    </tr>\n",
       "    <tr>\n",
       "      <th>max</th>\n",
       "      <td>2018.00</td>\n",
       "      <td>191194.00</td>\n",
       "      <td>30000.00</td>\n",
       "      <td>0.10</td>\n",
       "      <td>10000000.00</td>\n",
       "      <td>206256.84</td>\n",
       "    </tr>\n",
       "  </tbody>\n",
       "</table>\n",
       "</div>"
      ],
      "text/plain": [
       "          Year    Payment Deductible Coinsurance Policy limit Total claim\n",
       "count  1325.00    1325.00    1325.00     1325.00      1325.00     1325.00\n",
       "mean   2016.49   20121.15    6181.13        0.05    286641.51    27361.29\n",
       "std       1.10   27592.19    3190.40        0.01    491463.04    29370.86\n",
       "min    2015.00      25.00    5000.00        0.05    200000.00     5026.32\n",
       "25%    2016.00    4322.00    5000.00        0.05    200000.00    10194.74\n",
       "50%    2017.00   10698.00    5000.00        0.05    200000.00    17668.42\n",
       "75%    2017.00   24917.00    5000.00        0.05    200000.00    33525.26\n",
       "max    2018.00  191194.00   30000.00        0.10  10000000.00   206256.84"
      ]
     },
     "execution_count": 37,
     "metadata": {},
     "output_type": "execute_result"
    }
   ],
   "source": [
    "# check distribution of numeric features\n",
    "\n",
    "distr = paydatao.describe().apply(lambda x: x.apply('{0:.2f}'.format))\n",
    "distr"
   ]
  },
  {
   "cell_type": "code",
   "execution_count": 204,
   "metadata": {},
   "outputs": [
    {
     "data": {
      "text/html": [
       "<div>\n",
       "<style scoped>\n",
       "    .dataframe tbody tr th:only-of-type {\n",
       "        vertical-align: middle;\n",
       "    }\n",
       "\n",
       "    .dataframe tbody tr th {\n",
       "        vertical-align: top;\n",
       "    }\n",
       "\n",
       "    .dataframe thead th {\n",
       "        text-align: right;\n",
       "    }\n",
       "</style>\n",
       "<table border=\"1\" class=\"dataframe\">\n",
       "  <thead>\n",
       "    <tr style=\"text-align: right;\">\n",
       "      <th></th>\n",
       "      <th>Total claim</th>\n",
       "    </tr>\n",
       "  </thead>\n",
       "  <tbody>\n",
       "    <tr>\n",
       "      <th>count</th>\n",
       "      <td>1325.00</td>\n",
       "    </tr>\n",
       "    <tr>\n",
       "      <th>mean</th>\n",
       "      <td>27361.29</td>\n",
       "    </tr>\n",
       "    <tr>\n",
       "      <th>std</th>\n",
       "      <td>29370.86</td>\n",
       "    </tr>\n",
       "    <tr>\n",
       "      <th>min</th>\n",
       "      <td>5026.32</td>\n",
       "    </tr>\n",
       "    <tr>\n",
       "      <th>25%</th>\n",
       "      <td>10194.74</td>\n",
       "    </tr>\n",
       "    <tr>\n",
       "      <th>50%</th>\n",
       "      <td>17668.42</td>\n",
       "    </tr>\n",
       "    <tr>\n",
       "      <th>75%</th>\n",
       "      <td>33525.26</td>\n",
       "    </tr>\n",
       "    <tr>\n",
       "      <th>max</th>\n",
       "      <td>206256.84</td>\n",
       "    </tr>\n",
       "  </tbody>\n",
       "</table>\n",
       "</div>"
      ],
      "text/plain": [
       "      Total claim\n",
       "count     1325.00\n",
       "mean     27361.29\n",
       "std      29370.86\n",
       "min       5026.32\n",
       "25%      10194.74\n",
       "50%      17668.42\n",
       "75%      33525.26\n",
       "max     206256.84"
      ]
     },
     "execution_count": 204,
     "metadata": {},
     "output_type": "execute_result"
    }
   ],
   "source": [
    "distr[['Total claim']]"
   ]
  },
  {
   "cell_type": "code",
   "execution_count": 38,
   "metadata": {},
   "outputs": [
    {
     "data": {
      "text/html": [
       "<div>\n",
       "<style scoped>\n",
       "    .dataframe tbody tr th:only-of-type {\n",
       "        vertical-align: middle;\n",
       "    }\n",
       "\n",
       "    .dataframe tbody tr th {\n",
       "        vertical-align: top;\n",
       "    }\n",
       "\n",
       "    .dataframe thead th {\n",
       "        text-align: right;\n",
       "    }\n",
       "</style>\n",
       "<table border=\"1\" class=\"dataframe\">\n",
       "  <thead>\n",
       "    <tr style=\"text-align: right;\">\n",
       "      <th></th>\n",
       "      <th>Year</th>\n",
       "      <th>Payment</th>\n",
       "      <th>Deductible</th>\n",
       "      <th>Coinsurance</th>\n",
       "      <th>Policy limit</th>\n",
       "      <th>Total claim</th>\n",
       "    </tr>\n",
       "  </thead>\n",
       "  <tbody>\n",
       "    <tr>\n",
       "      <th>Year</th>\n",
       "      <td>1.000000</td>\n",
       "      <td>-0.009786</td>\n",
       "      <td>0.036263</td>\n",
       "      <td>0.015258</td>\n",
       "      <td>0.031541</td>\n",
       "      <td>-0.005738</td>\n",
       "    </tr>\n",
       "    <tr>\n",
       "      <th>Payment</th>\n",
       "      <td>-0.009786</td>\n",
       "      <td>1.000000</td>\n",
       "      <td>0.047975</td>\n",
       "      <td>0.014387</td>\n",
       "      <td>0.030002</td>\n",
       "      <td>0.994096</td>\n",
       "    </tr>\n",
       "    <tr>\n",
       "      <th>Deductible</th>\n",
       "      <td>0.036263</td>\n",
       "      <td>0.047975</td>\n",
       "      <td>1.000000</td>\n",
       "      <td>0.833628</td>\n",
       "      <td>0.648563</td>\n",
       "      <td>0.156067</td>\n",
       "    </tr>\n",
       "    <tr>\n",
       "      <th>Coinsurance</th>\n",
       "      <td>0.015258</td>\n",
       "      <td>0.014387</td>\n",
       "      <td>0.833628</td>\n",
       "      <td>1.000000</td>\n",
       "      <td>0.500009</td>\n",
       "      <td>0.104780</td>\n",
       "    </tr>\n",
       "    <tr>\n",
       "      <th>Policy limit</th>\n",
       "      <td>0.031541</td>\n",
       "      <td>0.030002</td>\n",
       "      <td>0.648563</td>\n",
       "      <td>0.500009</td>\n",
       "      <td>1.000000</td>\n",
       "      <td>0.100118</td>\n",
       "    </tr>\n",
       "    <tr>\n",
       "      <th>Total claim</th>\n",
       "      <td>-0.005738</td>\n",
       "      <td>0.994096</td>\n",
       "      <td>0.156067</td>\n",
       "      <td>0.104780</td>\n",
       "      <td>0.100118</td>\n",
       "      <td>1.000000</td>\n",
       "    </tr>\n",
       "  </tbody>\n",
       "</table>\n",
       "</div>"
      ],
      "text/plain": [
       "                  Year   Payment  Deductible  Coinsurance  Policy limit  \\\n",
       "Year          1.000000 -0.009786    0.036263     0.015258      0.031541   \n",
       "Payment      -0.009786  1.000000    0.047975     0.014387      0.030002   \n",
       "Deductible    0.036263  0.047975    1.000000     0.833628      0.648563   \n",
       "Coinsurance   0.015258  0.014387    0.833628     1.000000      0.500009   \n",
       "Policy limit  0.031541  0.030002    0.648563     0.500009      1.000000   \n",
       "Total claim  -0.005738  0.994096    0.156067     0.104780      0.100118   \n",
       "\n",
       "              Total claim  \n",
       "Year            -0.005738  \n",
       "Payment          0.994096  \n",
       "Deductible       0.156067  \n",
       "Coinsurance      0.104780  \n",
       "Policy limit     0.100118  \n",
       "Total claim      1.000000  "
      ]
     },
     "execution_count": 38,
     "metadata": {},
     "output_type": "execute_result"
    }
   ],
   "source": [
    "# get correlation matrix\n",
    "\n",
    "corrs = paydatao.corr(method='pearson')\n",
    "corrs"
   ]
  },
  {
   "cell_type": "markdown",
   "metadata": {},
   "source": [
    "### Grouped means and medians"
   ]
  },
  {
   "cell_type": "code",
   "execution_count": 151,
   "metadata": {
    "scrolled": true
   },
   "outputs": [],
   "source": [
    "# Construct total claim mean & med grouped by Group\n",
    "\n",
    "Go_mean = paydatao.groupby(by='Group').mean().rename(columns={'Total claim': 'Total claim Mean'})\n",
    "Go_med = paydatao.groupby(by='Group').median().rename(columns={'Total claim': 'Total claim Median'})\n",
    "\n",
    "Go_Tot_mean_med = pd.concat([Go_mean[['Total claim Mean']], Go_med[['Total claim Median']]], axis=1).apply(lambda x: x.apply('{0:.0f}'.format))\n",
    "\n",
    "\n",
    "# Construct total claim mean & median grouped by Type\n",
    "\n",
    "To_mean = paydatao.groupby(by='Type').mean().rename(columns={'Total claim': 'Total claim Mean'})\n",
    "To_med = paydatao.groupby(by='Type').median().rename(columns={'Total claim': 'Total claim Median'})\n",
    "\n",
    "To_Tot_mean_med = pd.concat([To_mean[['Total claim Mean']], To_med[['Total claim Median']]], axis=1).apply(lambda x: x.apply('{0:.0f}'.format))"
   ]
  },
  {
   "cell_type": "code",
   "execution_count": 152,
   "metadata": {},
   "outputs": [
    {
     "data": {
      "text/html": [
       "<div>\n",
       "<style scoped>\n",
       "    .dataframe tbody tr th:only-of-type {\n",
       "        vertical-align: middle;\n",
       "    }\n",
       "\n",
       "    .dataframe tbody tr th {\n",
       "        vertical-align: top;\n",
       "    }\n",
       "\n",
       "    .dataframe thead th {\n",
       "        text-align: right;\n",
       "    }\n",
       "</style>\n",
       "<table border=\"1\" class=\"dataframe\">\n",
       "  <thead>\n",
       "    <tr style=\"text-align: right;\">\n",
       "      <th></th>\n",
       "      <th>Total claim Mean</th>\n",
       "      <th>Total claim Median</th>\n",
       "    </tr>\n",
       "    <tr>\n",
       "      <th>Group</th>\n",
       "      <th></th>\n",
       "      <th></th>\n",
       "    </tr>\n",
       "  </thead>\n",
       "  <tbody>\n",
       "    <tr>\n",
       "      <th>I</th>\n",
       "      <td>25340</td>\n",
       "      <td>15435</td>\n",
       "    </tr>\n",
       "    <tr>\n",
       "      <th>II</th>\n",
       "      <td>35841</td>\n",
       "      <td>26792</td>\n",
       "    </tr>\n",
       "    <tr>\n",
       "      <th>III</th>\n",
       "      <td>42966</td>\n",
       "      <td>36173</td>\n",
       "    </tr>\n",
       "    <tr>\n",
       "      <th>IV</th>\n",
       "      <td>60055</td>\n",
       "      <td>53951</td>\n",
       "    </tr>\n",
       "  </tbody>\n",
       "</table>\n",
       "</div>"
      ],
      "text/plain": [
       "      Total claim Mean Total claim Median\n",
       "Group                                    \n",
       "I                25340              15435\n",
       "II               35841              26792\n",
       "III              42966              36173\n",
       "IV               60055              53951"
      ]
     },
     "execution_count": 152,
     "metadata": {},
     "output_type": "execute_result"
    }
   ],
   "source": [
    "# Total claim mean & med grouped by Group\n",
    "\n",
    "Go_Tot_mean_med"
   ]
  },
  {
   "cell_type": "code",
   "execution_count": 153,
   "metadata": {},
   "outputs": [
    {
     "data": {
      "text/html": [
       "<div>\n",
       "<style scoped>\n",
       "    .dataframe tbody tr th:only-of-type {\n",
       "        vertical-align: middle;\n",
       "    }\n",
       "\n",
       "    .dataframe tbody tr th {\n",
       "        vertical-align: top;\n",
       "    }\n",
       "\n",
       "    .dataframe thead th {\n",
       "        text-align: right;\n",
       "    }\n",
       "</style>\n",
       "<table border=\"1\" class=\"dataframe\">\n",
       "  <thead>\n",
       "    <tr style=\"text-align: right;\">\n",
       "      <th></th>\n",
       "      <th>Total claim Mean</th>\n",
       "      <th>Total claim Median</th>\n",
       "    </tr>\n",
       "    <tr>\n",
       "      <th>Type</th>\n",
       "      <th></th>\n",
       "      <th></th>\n",
       "    </tr>\n",
       "  </thead>\n",
       "  <tbody>\n",
       "    <tr>\n",
       "      <th>Accidental</th>\n",
       "      <td>17532</td>\n",
       "      <td>12520</td>\n",
       "    </tr>\n",
       "    <tr>\n",
       "      <th>Acute</th>\n",
       "      <td>6903</td>\n",
       "      <td>6511</td>\n",
       "    </tr>\n",
       "    <tr>\n",
       "      <th>Chronic</th>\n",
       "      <td>96900</td>\n",
       "      <td>85662</td>\n",
       "    </tr>\n",
       "    <tr>\n",
       "      <th>Subacute</th>\n",
       "      <td>31621</td>\n",
       "      <td>27396</td>\n",
       "    </tr>\n",
       "  </tbody>\n",
       "</table>\n",
       "</div>"
      ],
      "text/plain": [
       "           Total claim Mean Total claim Median\n",
       "Type                                          \n",
       "Accidental            17532              12520\n",
       "Acute                  6903               6511\n",
       "Chronic               96900              85662\n",
       "Subacute              31621              27396"
      ]
     },
     "execution_count": 153,
     "metadata": {},
     "output_type": "execute_result"
    }
   ],
   "source": [
    "# Total claim mean & med grouped by Type\n",
    "\n",
    "To_Tot_mean_med"
   ]
  },
  {
   "cell_type": "code",
   "execution_count": 148,
   "metadata": {},
   "outputs": [],
   "source": [
    "# With outliers, for comparison\n",
    "\n",
    "G_mean = paydata.groupby(by='Group').mean().rename(columns={'Total claim': 'Total claim Mean'})\n",
    "G_med = paydata.groupby(by='Group').median().rename(columns={'Total claim': 'Total claim Median'})\n",
    "G_Tot_mean_med = pd.concat([G_mean[['Total claim Mean']], G_med[['Total claim Median']]], axis=1).apply(lambda x: x.apply('{0:.0f}'.format))\n",
    "\n",
    "T_mean = paydata.groupby(by='Type').mean().rename(columns={'Total claim': 'Total claim Mean'})\n",
    "T_med = paydata.groupby(by='Type').median().rename(columns={'Total claim': 'Total claim Median'})\n",
    "T_Tot_mean_med = pd.concat([T_mean[['Total claim Mean']], T_med[['Total claim Median']]], axis=1).apply(lambda x: x.apply('{0:.0f}'.format))"
   ]
  },
  {
   "cell_type": "code",
   "execution_count": 149,
   "metadata": {
    "scrolled": true
   },
   "outputs": [
    {
     "data": {
      "text/html": [
       "<div>\n",
       "<style scoped>\n",
       "    .dataframe tbody tr th:only-of-type {\n",
       "        vertical-align: middle;\n",
       "    }\n",
       "\n",
       "    .dataframe tbody tr th {\n",
       "        vertical-align: top;\n",
       "    }\n",
       "\n",
       "    .dataframe thead th {\n",
       "        text-align: right;\n",
       "    }\n",
       "</style>\n",
       "<table border=\"1\" class=\"dataframe\">\n",
       "  <thead>\n",
       "    <tr style=\"text-align: right;\">\n",
       "      <th></th>\n",
       "      <th>Total claim Mean</th>\n",
       "      <th>Total claim Median</th>\n",
       "    </tr>\n",
       "    <tr>\n",
       "      <th>Group</th>\n",
       "      <th></th>\n",
       "      <th></th>\n",
       "    </tr>\n",
       "  </thead>\n",
       "  <tbody>\n",
       "    <tr>\n",
       "      <th>I</th>\n",
       "      <td>39380</td>\n",
       "      <td>17376</td>\n",
       "    </tr>\n",
       "    <tr>\n",
       "      <th>II</th>\n",
       "      <td>74917</td>\n",
       "      <td>29568</td>\n",
       "    </tr>\n",
       "    <tr>\n",
       "      <th>III</th>\n",
       "      <td>172611</td>\n",
       "      <td>40995</td>\n",
       "    </tr>\n",
       "    <tr>\n",
       "      <th>IV</th>\n",
       "      <td>508249</td>\n",
       "      <td>306987</td>\n",
       "    </tr>\n",
       "  </tbody>\n",
       "</table>\n",
       "</div>"
      ],
      "text/plain": [
       "      Total claim Mean Total claim Median\n",
       "Group                                    \n",
       "I                39380              17376\n",
       "II               74917              29568\n",
       "III             172611              40995\n",
       "IV              508249             306987"
      ]
     },
     "execution_count": 149,
     "metadata": {},
     "output_type": "execute_result"
    }
   ],
   "source": [
    "G_Tot_mean_med"
   ]
  },
  {
   "cell_type": "code",
   "execution_count": 150,
   "metadata": {},
   "outputs": [
    {
     "data": {
      "text/html": [
       "<div>\n",
       "<style scoped>\n",
       "    .dataframe tbody tr th:only-of-type {\n",
       "        vertical-align: middle;\n",
       "    }\n",
       "\n",
       "    .dataframe tbody tr th {\n",
       "        vertical-align: top;\n",
       "    }\n",
       "\n",
       "    .dataframe thead th {\n",
       "        text-align: right;\n",
       "    }\n",
       "</style>\n",
       "<table border=\"1\" class=\"dataframe\">\n",
       "  <thead>\n",
       "    <tr style=\"text-align: right;\">\n",
       "      <th></th>\n",
       "      <th>Total claim Mean</th>\n",
       "      <th>Total claim Median</th>\n",
       "    </tr>\n",
       "    <tr>\n",
       "      <th>Type</th>\n",
       "      <th></th>\n",
       "      <th></th>\n",
       "    </tr>\n",
       "  </thead>\n",
       "  <tbody>\n",
       "    <tr>\n",
       "      <th>Accidental</th>\n",
       "      <td>18405</td>\n",
       "      <td>12569</td>\n",
       "    </tr>\n",
       "    <tr>\n",
       "      <th>Acute</th>\n",
       "      <td>6903</td>\n",
       "      <td>6511</td>\n",
       "    </tr>\n",
       "    <tr>\n",
       "      <th>Chronic</th>\n",
       "      <td>224410</td>\n",
       "      <td>215526</td>\n",
       "    </tr>\n",
       "    <tr>\n",
       "      <th>Subacute</th>\n",
       "      <td>31621</td>\n",
       "      <td>27396</td>\n",
       "    </tr>\n",
       "  </tbody>\n",
       "</table>\n",
       "</div>"
      ],
      "text/plain": [
       "           Total claim Mean Total claim Median\n",
       "Type                                          \n",
       "Accidental            18405              12569\n",
       "Acute                  6903               6511\n",
       "Chronic              224410             215526\n",
       "Subacute              31621              27396"
      ]
     },
     "execution_count": 150,
     "metadata": {},
     "output_type": "execute_result"
    }
   ],
   "source": [
    "T_Tot_mean_med"
   ]
  },
  {
   "cell_type": "markdown",
   "metadata": {},
   "source": [
    "Compared to values with outliers, Group IV mean has decreased significantly. Chronic mean and median have also both dropped significantly. This suggests many of the outliers may have belonged to chronic group. "
   ]
  },
  {
   "cell_type": "markdown",
   "metadata": {},
   "source": [
    "## Histograms"
   ]
  },
  {
   "cell_type": "code",
   "execution_count": 49,
   "metadata": {},
   "outputs": [
    {
     "data": {
      "text/plain": [
       "array([[<matplotlib.axes._subplots.AxesSubplot object at 0x000002477394F828>]],\n",
       "      dtype=object)"
      ]
     },
     "execution_count": 49,
     "metadata": {},
     "output_type": "execute_result"
    },
    {
     "data": {
      "image/png": "[encoded data removed]",
      "text/plain": [
       "<Figure size 432x288 with 1 Axes>"
      ]
     },
     "metadata": {
      "needs_background": "light"
     },
     "output_type": "display_data"
    }
   ],
   "source": [
    "# Total claim (dependent variable) distribution\n",
    "\n",
    "paydatao.hist(column=['Total claim'])"
   ]
  },
  {
   "cell_type": "markdown",
   "metadata": {},
   "source": [
    "Total claims data has clear negative binomial distribution."
   ]
  },
  {
   "cell_type": "code",
   "execution_count": 205,
   "metadata": {
    "scrolled": false
   },
   "outputs": [
    {
     "data": {
      "text/plain": [
       "array([[<matplotlib.axes._subplots.AxesSubplot object at 0x00000247758C8CC0>,\n",
       "        <matplotlib.axes._subplots.AxesSubplot object at 0x000002477590E940>],\n",
       "       [<matplotlib.axes._subplots.AxesSubplot object at 0x0000024775940EF0>,\n",
       "        <matplotlib.axes._subplots.AxesSubplot object at 0x00000247759774E0>]],\n",
       "      dtype=object)"
      ]
     },
     "execution_count": 205,
     "metadata": {},
     "output_type": "execute_result"
    },
    {
     "data": {
      "image/png": "[encoded data removed]",
      "text/plain": [
       "<Figure size 432x288 with 4 Axes>"
      ]
     },
     "metadata": {
      "needs_background": "light"
     },
     "output_type": "display_data"
    }
   ],
   "source": [
    "# by Group of coverage\n",
    "\n",
    "paydatao.hist(by='Group', column='Type', xlabelsize=8, color='black', rot=0)"
   ]
  },
  {
   "cell_type": "code",
   "execution_count": 206,
   "metadata": {},
   "outputs": [
    {
     "data": {
      "text/plain": [
       "array([[<matplotlib.axes._subplots.AxesSubplot object at 0x00000247758A7B70>,\n",
       "        <matplotlib.axes._subplots.AxesSubplot object at 0x0000024775A7D710>],\n",
       "       [<matplotlib.axes._subplots.AxesSubplot object at 0x0000024775AAAC88>,\n",
       "        <matplotlib.axes._subplots.AxesSubplot object at 0x0000024775AE8278>]],\n",
       "      dtype=object)"
      ]
     },
     "execution_count": 206,
     "metadata": {},
     "output_type": "execute_result"
    },
    {
     "data": {
      "image/png": "[encoded data removed]",
      "text/plain": [
       "<Figure size 432x288 with 4 Axes>"
      ]
     },
     "metadata": {
      "needs_background": "light"
     },
     "output_type": "display_data"
    }
   ],
   "source": [
    "# by Type of claim\n",
    "\n",
    "paydatao.hist(by='Type', column='Group', xlabelsize=8, color='black', rot=0)"
   ]
  },
  {
   "cell_type": "code",
   "execution_count": null,
   "metadata": {},
   "outputs": [],
   "source": []
  },
  {
   "cell_type": "code",
   "execution_count": 193,
   "metadata": {},
   "outputs": [],
   "source": [
    "import matplotlib as plt"
   ]
  },
  {
   "cell_type": "code",
   "execution_count": 198,
   "metadata": {
    "scrolled": false
   },
   "outputs": [
    {
     "data": {
      "text/plain": [
       "<matplotlib.axes._subplots.AxesSubplot at 0x2477585f470>"
      ]
     },
     "execution_count": 198,
     "metadata": {},
     "output_type": "execute_result"
    },
    {
     "data": {
      "image/png": "[encoded data removed]",
      "text/plain": [
       "<Figure size 432x288 with 1 Axes>"
      ]
     },
     "metadata": {
      "needs_background": "light"
     },
     "output_type": "display_data"
    }
   ],
   "source": [
    "Go_mean = Go_Tot_mean_med['Total claim Mean'].to_frame().astype({'Total claim Mean':int})\n",
    "Go_mean.plot.bar(rot=0)"
   ]
  },
  {
   "cell_type": "code",
   "execution_count": 215,
   "metadata": {},
   "outputs": [
    {
     "data": {
      "text/plain": [
       "<matplotlib.axes._subplots.AxesSubplot at 0x24775d86080>"
      ]
     },
     "execution_count": 215,
     "metadata": {},
     "output_type": "execute_result"
    },
    {
     "data": {
      "image/png": "[encoded data removed]",
      "text/plain": [
       "<Figure size 432x288 with 1 Axes>"
      ]
     },
     "metadata": {
      "needs_background": "light"
     },
     "output_type": "display_data"
    }
   ],
   "source": [
    "To_mean = To_Tot_mean_med['Total claim Mean'].to_frame().astype({'Total claim Mean':int})\n",
    "To_mean.plot.bar(rot=0)"
   ]
  },
  {
   "cell_type": "markdown",
   "metadata": {},
   "source": [
    "Create dummy variables for all categorical variables: Year, Group, Type"
   ]
  },
  {
   "cell_type": "code",
   "execution_count": 40,
   "metadata": {
    "scrolled": false
   },
   "outputs": [
    {
     "data": {
      "text/html": [
       "<div>\n",
       "<style scoped>\n",
       "    .dataframe tbody tr th:only-of-type {\n",
       "        vertical-align: middle;\n",
       "    }\n",
       "\n",
       "    .dataframe tbody tr th {\n",
       "        vertical-align: top;\n",
       "    }\n",
       "\n",
       "    .dataframe thead th {\n",
       "        text-align: right;\n",
       "    }\n",
       "</style>\n",
       "<table border=\"1\" class=\"dataframe\">\n",
       "  <thead>\n",
       "    <tr style=\"text-align: right;\">\n",
       "      <th></th>\n",
       "      <th>Payment</th>\n",
       "      <th>Deductible</th>\n",
       "      <th>Coinsurance</th>\n",
       "      <th>Policy limit</th>\n",
       "      <th>Total claim</th>\n",
       "      <th>Year_2016</th>\n",
       "      <th>Year_2017</th>\n",
       "      <th>Year_2018</th>\n",
       "      <th>Type_Acute</th>\n",
       "      <th>Type_Chronic</th>\n",
       "      <th>Type_Subacute</th>\n",
       "      <th>Group_II</th>\n",
       "      <th>Group_III</th>\n",
       "      <th>Group_IV</th>\n",
       "    </tr>\n",
       "  </thead>\n",
       "  <tbody>\n",
       "    <tr>\n",
       "      <th>0</th>\n",
       "      <td>1079</td>\n",
       "      <td>5000.0</td>\n",
       "      <td>0.05</td>\n",
       "      <td>200000.0</td>\n",
       "      <td>6135.79</td>\n",
       "      <td>0</td>\n",
       "      <td>0</td>\n",
       "      <td>0</td>\n",
       "      <td>0</td>\n",
       "      <td>0</td>\n",
       "      <td>1</td>\n",
       "      <td>0</td>\n",
       "      <td>0</td>\n",
       "      <td>0</td>\n",
       "    </tr>\n",
       "    <tr>\n",
       "      <th>1</th>\n",
       "      <td>25557</td>\n",
       "      <td>5000.0</td>\n",
       "      <td>0.05</td>\n",
       "      <td>200000.0</td>\n",
       "      <td>31902.11</td>\n",
       "      <td>0</td>\n",
       "      <td>0</td>\n",
       "      <td>0</td>\n",
       "      <td>0</td>\n",
       "      <td>0</td>\n",
       "      <td>1</td>\n",
       "      <td>0</td>\n",
       "      <td>0</td>\n",
       "      <td>0</td>\n",
       "    </tr>\n",
       "    <tr>\n",
       "      <th>2</th>\n",
       "      <td>27475</td>\n",
       "      <td>5000.0</td>\n",
       "      <td>0.05</td>\n",
       "      <td>200000.0</td>\n",
       "      <td>33921.05</td>\n",
       "      <td>0</td>\n",
       "      <td>0</td>\n",
       "      <td>0</td>\n",
       "      <td>0</td>\n",
       "      <td>0</td>\n",
       "      <td>0</td>\n",
       "      <td>0</td>\n",
       "      <td>0</td>\n",
       "      <td>0</td>\n",
       "    </tr>\n",
       "  </tbody>\n",
       "</table>\n",
       "</div>"
      ],
      "text/plain": [
       "   Payment  Deductible  Coinsurance  Policy limit  Total claim  Year_2016  \\\n",
       "0     1079      5000.0         0.05      200000.0      6135.79          0   \n",
       "1    25557      5000.0         0.05      200000.0     31902.11          0   \n",
       "2    27475      5000.0         0.05      200000.0     33921.05          0   \n",
       "\n",
       "   Year_2017  Year_2018  Type_Acute  Type_Chronic  Type_Subacute  Group_II  \\\n",
       "0          0          0           0             0              1         0   \n",
       "1          0          0           0             0              1         0   \n",
       "2          0          0           0             0              0         0   \n",
       "\n",
       "   Group_III  Group_IV  \n",
       "0          0         0  \n",
       "1          0         0  \n",
       "2          0         0  "
      ]
     },
     "execution_count": 40,
     "metadata": {},
     "output_type": "execute_result"
    }
   ],
   "source": [
    "paydataod = pd.get_dummies(paydatao, columns=['Year','Type','Group'], drop_first=True)\n",
    "paydataod.head(3)"
   ]
  },
  {
   "cell_type": "markdown",
   "metadata": {},
   "source": [
    "# Modeling"
   ]
  },
  {
   "cell_type": "markdown",
   "metadata": {},
   "source": [
    "Import relevant libraries"
   ]
  },
  {
   "cell_type": "code",
   "execution_count": 116,
   "metadata": {},
   "outputs": [],
   "source": [
    "from sklearn import linear_model\n",
    "from sklearn import datasets\n",
    "from sklearn.metrics import mean_squared_error\n",
    "from sklearn.metrics import r2_score\n",
    "from scipy import stats\n",
    "from sklearn.model_selection import train_test_split\n",
    "from sklearn.ensemble import RandomForestRegressor"
   ]
  },
  {
   "cell_type": "markdown",
   "metadata": {},
   "source": [
    "Defining X and Y"
   ]
  },
  {
   "cell_type": "code",
   "execution_count": 72,
   "metadata": {},
   "outputs": [],
   "source": [
    "# X: all Years, all Types, all Groups (policy info implicit to group)\n",
    "# Y: Total claim\n",
    "\n",
    "X = paydataod.drop(['Payment','Deductible','Coinsurance','Policy limit','Total claim'], axis=1)\n",
    "Y = paydataod.filter(['Total claim'])"
   ]
  },
  {
   "cell_type": "markdown",
   "metadata": {},
   "source": [
    "Train and test split - test 20%"
   ]
  },
  {
   "cell_type": "code",
   "execution_count": 109,
   "metadata": {},
   "outputs": [],
   "source": [
    "X_train, X_test, Y_train, Y_test = train_test_split(X, Y, test_size=0.2, random_state=123)"
   ]
  },
  {
   "cell_type": "code",
   "execution_count": 75,
   "metadata": {},
   "outputs": [
    {
     "name": "stdout",
     "output_type": "stream",
     "text": [
      "Shape of X_train: (1060, 9)\n",
      "Shape of X_test: (265, 9)\n",
      "Shape of Y_train: (1060, 1)\n",
      "Shape of Y_test: (265, 1)\n"
     ]
    }
   ],
   "source": [
    "# check shapes\n",
    "\n",
    "print('Shape of X_train: {}'.format(X_train.shape))\n",
    "print('Shape of X_test: {}'.format(X_test.shape))\n",
    "print('Shape of Y_train: {}'.format(Y_train.shape))\n",
    "print('Shape of Y_test: {}'.format(Y_test.shape))"
   ]
  },
  {
   "cell_type": "code",
   "execution_count": null,
   "metadata": {},
   "outputs": [],
   "source": [
    "# drop na's\n",
    "\n",
    "things = [X_train, X_test, Y_train, Y_test]\n",
    "for i in things:\n",
    "    i = i.dropna(inplace=True)"
   ]
  },
  {
   "cell_type": "markdown",
   "metadata": {},
   "source": [
    "## Linear Regression"
   ]
  },
  {
   "cell_type": "markdown",
   "metadata": {},
   "source": [
    "Create and run linear model, create predictions"
   ]
  },
  {
   "cell_type": "code",
   "execution_count": 92,
   "metadata": {},
   "outputs": [],
   "source": [
    "lr = linear_model.LinearRegression()\n",
    "lr.fit(X_train, Y_train)\n",
    "lr_pred = lr.predict(X_test)"
   ]
  },
  {
   "cell_type": "markdown",
   "metadata": {},
   "source": [
    "Produce coefficients and measures of model fit"
   ]
  },
  {
   "cell_type": "code",
   "execution_count": 103,
   "metadata": {},
   "outputs": [
    {
     "name": "stdout",
     "output_type": "stream",
     "text": [
      "Linear Regression Model Fit:\n",
      "\n",
      "\n",
      "Coefficients:  [[ -447.52497146  1164.4495983   -666.26597072 -9583.93054242\n",
      "  78227.89129566 12598.20728666  7586.73955625  9063.9981241\n",
      "   9587.24388416]]\n",
      "MSE: 624240614.618\n",
      "RMSE: 24984.808\n",
      "R squared: 0.425\n"
     ]
    }
   ],
   "source": [
    "print('Linear Regression Model Fit:')\n",
    "print('\\n')\n",
    "print('Coefficients: ', lr.coef_)\n",
    "print('MSE: %.3f' %mean_squared_error(Y_test, lr_pred))\n",
    "print('RMSE: %.3f' %mean_squared_error(Y_test, lr_pred, squared=False))\n",
    "print('R squared: %.3f' %r2_score(Y_test, lr_pred))"
   ]
  },
  {
   "cell_type": "code",
   "execution_count": 138,
   "metadata": {},
   "outputs": [
    {
     "data": {
      "text/html": [
       "<div>\n",
       "<style scoped>\n",
       "    .dataframe tbody tr th:only-of-type {\n",
       "        vertical-align: middle;\n",
       "    }\n",
       "\n",
       "    .dataframe tbody tr th {\n",
       "        vertical-align: top;\n",
       "    }\n",
       "\n",
       "    .dataframe thead th {\n",
       "        text-align: right;\n",
       "    }\n",
       "</style>\n",
       "<table border=\"1\" class=\"dataframe\">\n",
       "  <thead>\n",
       "    <tr style=\"text-align: right;\">\n",
       "      <th></th>\n",
       "      <th>attribute</th>\n",
       "      <th>coefficient</th>\n",
       "    </tr>\n",
       "  </thead>\n",
       "  <tbody>\n",
       "    <tr>\n",
       "      <th>0</th>\n",
       "      <td>Year_2016</td>\n",
       "      <td>-447.524971</td>\n",
       "    </tr>\n",
       "    <tr>\n",
       "      <th>1</th>\n",
       "      <td>Year_2017</td>\n",
       "      <td>1164.449598</td>\n",
       "    </tr>\n",
       "    <tr>\n",
       "      <th>2</th>\n",
       "      <td>Year_2018</td>\n",
       "      <td>-666.265971</td>\n",
       "    </tr>\n",
       "    <tr>\n",
       "      <th>3</th>\n",
       "      <td>Type_Acute</td>\n",
       "      <td>-9583.930542</td>\n",
       "    </tr>\n",
       "    <tr>\n",
       "      <th>4</th>\n",
       "      <td>Type_Chronic</td>\n",
       "      <td>78227.891296</td>\n",
       "    </tr>\n",
       "    <tr>\n",
       "      <th>5</th>\n",
       "      <td>Type_Subacute</td>\n",
       "      <td>12598.207287</td>\n",
       "    </tr>\n",
       "    <tr>\n",
       "      <th>6</th>\n",
       "      <td>Group_II</td>\n",
       "      <td>7586.739556</td>\n",
       "    </tr>\n",
       "    <tr>\n",
       "      <th>7</th>\n",
       "      <td>Group_III</td>\n",
       "      <td>9063.998124</td>\n",
       "    </tr>\n",
       "    <tr>\n",
       "      <th>8</th>\n",
       "      <td>Group_IV</td>\n",
       "      <td>9587.243884</td>\n",
       "    </tr>\n",
       "  </tbody>\n",
       "</table>\n",
       "</div>"
      ],
      "text/plain": [
       "       attribute   coefficient\n",
       "0      Year_2016   -447.524971\n",
       "1      Year_2017   1164.449598\n",
       "2      Year_2018   -666.265971\n",
       "3     Type_Acute  -9583.930542\n",
       "4   Type_Chronic  78227.891296\n",
       "5  Type_Subacute  12598.207287\n",
       "6       Group_II   7586.739556\n",
       "7      Group_III   9063.998124\n",
       "8       Group_IV   9587.243884"
      ]
     },
     "execution_count": 138,
     "metadata": {},
     "output_type": "execute_result"
    }
   ],
   "source": [
    "coefs_lr = lr.coef_[0]\n",
    "c = coefs_lr.tolist()\n",
    "coeffs_lr = pd.DataFrame({\n",
    "    'attribute': X.columns,\n",
    "    'coefficient': c\n",
    "})\n",
    "\n",
    "coeffs_lr"
   ]
  },
  {
   "cell_type": "markdown",
   "metadata": {},
   "source": [
    "Very large coeffients, both positive and negative. May be due to multicollinearity. R^2 value indicates that model explains less than half of variation in Total claim."
   ]
  },
  {
   "cell_type": "markdown",
   "metadata": {},
   "source": [
    "## Random Forest"
   ]
  },
  {
   "cell_type": "markdown",
   "metadata": {},
   "source": [
    "Create and run random forest model, create predictions"
   ]
  },
  {
   "cell_type": "code",
   "execution_count": 94,
   "metadata": {},
   "outputs": [
    {
     "name": "stderr",
     "output_type": "stream",
     "text": [
      "c:\\users\\manna\\appdata\\local\\programs\\python\\python37\\lib\\site-packages\\ipykernel_launcher.py:2: DataConversionWarning: A column-vector y was passed when a 1d array was expected. Please change the shape of y to (n_samples,), for example using ravel().\n",
      "  \n"
     ]
    }
   ],
   "source": [
    "rf = RandomForestRegressor(n_estimators=1000, random_state=123)\n",
    "rf.fit(X_train, Y_train)\n",
    "rf_pred = rf.predict(X_test)"
   ]
  },
  {
   "cell_type": "markdown",
   "metadata": {},
   "source": [
    "Produce coefficients and measures of model fit"
   ]
  },
  {
   "cell_type": "code",
   "execution_count": 115,
   "metadata": {},
   "outputs": [
    {
     "name": "stdout",
     "output_type": "stream",
     "text": [
      "Random Forest Model Fit:\n",
      "\n",
      "\n",
      "MSE: 666026082.896\n",
      "RMSE: 25807.481\n",
      "R squared: 0.386\n"
     ]
    }
   ],
   "source": [
    "print('Random Forest Model Fit:')\n",
    "print('\\n')\n",
    "print('MSE: %.3f' %mean_squared_error(Y_test, rf_pred))\n",
    "print('RMSE: %.3f' %mean_squared_error(Y_test, rf_pred, squared=False))\n",
    "print('R squared: %.3f' %r2_score(Y_test, rf_pred))"
   ]
  },
  {
   "cell_type": "markdown",
   "metadata": {},
   "source": [
    "Random forest has a lower R^2 and slightly higher error than linear model.  "
   ]
  },
  {
   "cell_type": "markdown",
   "metadata": {},
   "source": [
    "## Only group 1"
   ]
  },
  {
   "cell_type": "markdown",
   "metadata": {},
   "source": [
    "Defining base group and corresponding X and Y values"
   ]
  },
  {
   "cell_type": "code",
   "execution_count": 140,
   "metadata": {},
   "outputs": [],
   "source": [
    "# create base group and dummies\n",
    "\n",
    "paydatao1 = paydatao[paydatao['Group']=='I']\n",
    "paydataod1 = pd.get_dummies(paydatao1, columns=['Year','Type','Group'], drop_first=True)\n",
    "\n",
    "# create X and Y for group 1 \n",
    "\n",
    "X1 = paydataod1.drop(['Payment','Deductible','Coinsurance','Policy limit','Total claim'], axis=1)\n",
    "Y1 = paydataod1.filter(['Total claim'])"
   ]
  },
  {
   "cell_type": "markdown",
   "metadata": {},
   "source": [
    "Train and test split - 20%"
   ]
  },
  {
   "cell_type": "code",
   "execution_count": 141,
   "metadata": {},
   "outputs": [],
   "source": [
    "X1_train, X1_test, Y1_train, Y1_test = train_test_split(X1, Y1, test_size=0.2, random_state=123)"
   ]
  },
  {
   "cell_type": "code",
   "execution_count": 142,
   "metadata": {},
   "outputs": [
    {
     "name": "stderr",
     "output_type": "stream",
     "text": [
      "c:\\users\\manna\\appdata\\local\\programs\\python\\python37\\lib\\site-packages\\ipykernel_launcher.py:5: SettingWithCopyWarning: \n",
      "A value is trying to be set on a copy of a slice from a DataFrame\n",
      "\n",
      "See the caveats in the documentation: http://pandas.pydata.org/pandas-docs/stable/user_guide/indexing.html#returning-a-view-versus-a-copy\n",
      "  \"\"\"\n"
     ]
    }
   ],
   "source": [
    "# drop na's\n",
    "\n",
    "things = [X1_train, X1_test, Y1_train, Y1_test]\n",
    "for i in things:\n",
    "    i = i.dropna(inplace=True)"
   ]
  },
  {
   "cell_type": "markdown",
   "metadata": {},
   "source": [
    "Linear Regression"
   ]
  },
  {
   "cell_type": "code",
   "execution_count": 143,
   "metadata": {},
   "outputs": [
    {
     "name": "stdout",
     "output_type": "stream",
     "text": [
      "Linear Regression Model Fit - Group 1:\n",
      "\n",
      "\n",
      "Coefficients:  [[ -276.37751116  2557.4929074   1131.55976    -9475.112922\n",
      "  83863.62079779 12969.30440522]]\n",
      "MSE: 523485835.387\n",
      "RMSE: 22879.813\n",
      "R squared: 0.285\n"
     ]
    }
   ],
   "source": [
    "lr1 = linear_model.LinearRegression()\n",
    "lr1.fit(X1_train, Y1_train)\n",
    "lr1_pred = lr1.predict(X1_test)\n",
    "\n",
    "print('Linear Regression Model Fit - Group 1:')\n",
    "print('\\n')\n",
    "print('Coefficients: ', lr1.coef_)\n",
    "print('MSE: %.3f' %mean_squared_error(Y1_test, lr1_pred))\n",
    "print('RMSE: %.3f' %mean_squared_error(Y1_test, lr1_pred, squared=False))\n",
    "print('R squared: %.3f' %r2_score(Y1_test, lr1_pred))"
   ]
  },
  {
   "cell_type": "markdown",
   "metadata": {},
   "source": [
    "Random Forest Regression"
   ]
  },
  {
   "cell_type": "code",
   "execution_count": 144,
   "metadata": {},
   "outputs": [
    {
     "name": "stderr",
     "output_type": "stream",
     "text": [
      "c:\\users\\manna\\appdata\\local\\programs\\python\\python37\\lib\\site-packages\\ipykernel_launcher.py:2: DataConversionWarning: A column-vector y was passed when a 1d array was expected. Please change the shape of y to (n_samples,), for example using ravel().\n",
      "  \n"
     ]
    },
    {
     "name": "stdout",
     "output_type": "stream",
     "text": [
      "Random Forest Model Fit - Group 1:\n",
      "\n",
      "\n",
      "MSE: 527395010.142\n",
      "RMSE: 22965.082\n",
      "R squared: 0.280\n"
     ]
    }
   ],
   "source": [
    "rf1 = RandomForestRegressor(n_estimators=1000, random_state=123)\n",
    "rf1.fit(X1_train, Y1_train)\n",
    "rf1_pred = rf1.predict(X1_test)\n",
    "\n",
    "print('Random Forest Model Fit - Group 1:')\n",
    "print('\\n')\n",
    "print('MSE: %.3f' %mean_squared_error(Y1_test, rf1_pred))\n",
    "print('RMSE: %.3f' %mean_squared_error(Y1_test, rf1_pred, squared=False))\n",
    "print('R squared: %.3f' %r2_score(Y1_test, rf1_pred))"
   ]
  },
  {
   "cell_type": "code",
   "execution_count": null,
   "metadata": {},
   "outputs": [],
   "source": []
  }
 ],
 "metadata": {
  "kernelspec": {
   "display_name": "Python 3",
   "language": "python",
   "name": "python3"
  },
  "language_info": {
   "codemirror_mode": {
    "name": "ipython",
    "version": 3
   },
   "file_extension": ".py",
   "mimetype": "text/x-python",
   "name": "python",
   "nbconvert_exporter": "python",
   "pygments_lexer": "ipython3",
   "version": "3.7.3"
  }
 },
 "nbformat": 4,
 "nbformat_minor": 4
}
